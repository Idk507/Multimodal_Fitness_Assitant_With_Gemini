{
 "cells": [
  {
   "cell_type": "code",
   "execution_count": 2,
   "metadata": {},
   "outputs": [],
   "source": [
    "import google.generativeai as genai\n",
    "from google.generativeai import models\n",
    "from IPython.display import Markdown"
   ]
  },
  {
   "cell_type": "code",
   "execution_count": 3,
   "metadata": {},
   "outputs": [],
   "source": [
    "GOOGLE_API_KEY = \"\"\n",
    "genai.configure(api_key=GOOGLE_API_KEY)"
   ]
  },
  {
   "cell_type": "code",
   "execution_count": 4,
   "metadata": {},
   "outputs": [
    {
     "name": "stderr",
     "output_type": "stream",
     "text": [
      "  % Total    % Received % Xferd  Average Speed   Time    Time     Time  Current\n",
      "                                 Dload  Upload   Total   Spent    Left  Speed\n",
      "\n",
      "  0     0    0     0    0     0      0      0 --:--:-- --:--:-- --:--:--     0\n",
      "  2  349k    2 10393    0     0  13476      0  0:00:26 --:--:--  0:00:26 13514\n",
      "100  349k  100  349k    0     0   367k      0 --:--:-- --:--:-- --:--:--  368k\n"
     ]
    }
   ],
   "source": [
    "!curl -o jetpack.jpg https://storage.googleapis.com/generativeai-downloads/images/jetpack.jpg"
   ]
  },
  {
   "cell_type": "code",
   "execution_count": 10,
   "metadata": {},
   "outputs": [
    {
     "name": "stdout",
     "output_type": "stream",
     "text": [
      "Uploaded file 'Image' as: https://generativelanguage.googleapis.com/v1beta/files/ow1orbv9ldeg\n"
     ]
    }
   ],
   "source": [
    "# Upload the file and print a confirmation.\n",
    "sample_file = genai.upload_file(path=\"image.png\",\n",
    "                            display_name=\"Image\")\n",
    "\n",
    "print(f\"Uploaded file '{sample_file.display_name}' as: {sample_file.uri}\")"
   ]
  },
  {
   "cell_type": "code",
   "execution_count": 11,
   "metadata": {},
   "outputs": [
    {
     "name": "stdout",
     "output_type": "stream",
     "text": [
      "Retrieved file 'Image' as: https://generativelanguage.googleapis.com/v1beta/files/ow1orbv9ldeg\n"
     ]
    }
   ],
   "source": [
    "file = genai.get_file(name=sample_file.name)\n",
    "print(f\"Retrieved file '{file.display_name}' as: {sample_file.uri}\")"
   ]
  },
  {
   "cell_type": "code",
   "execution_count": 12,
   "metadata": {},
   "outputs": [],
   "source": [
    "user_query = input()"
   ]
  },
  {
   "cell_type": "code",
   "execution_count": 13,
   "metadata": {},
   "outputs": [
    {
     "data": {
      "text/plain": [
       "'PLease explain the fitness pic'"
      ]
     },
     "execution_count": 13,
     "metadata": {},
     "output_type": "execute_result"
    }
   ],
   "source": [
    "user_query"
   ]
  },
  {
   "cell_type": "code",
   "execution_count": 14,
   "metadata": {},
   "outputs": [
    {
     "data": {
      "text/markdown": [
       ">The image shows a man doing a battle rope workout. Here are some tips for this exercise:\n",
       "\n",
       "* **Start slow:** If you're new to battle ropes, begin with shorter intervals and gradually increase the intensity and duration as you build strength and endurance. \n",
       "* **Engage your core:** Keep your abdominal muscles tight throughout the exercise to stabilize your body and maximize the effectiveness of the workout. \n",
       "* **Maintain proper form:** Avoid hunching your back or locking your elbows. Maintain a slight bend in your knees and keep your shoulders relaxed. \n",
       "* **Focus on explosiveness:** Generate power from your hips and arms to create waves in the ropes.  \n",
       "* **Vary your movements:** Experiment with different rope movements like bilateral waves, alternating waves, slams, and circles to target different muscle groups. \n",
       "\n",
       "Remember to consult a fitness professional before starting any new workout routine. \n"
      ],
      "text/plain": [
       "<IPython.core.display.Markdown object>"
      ]
     },
     "execution_count": 14,
     "metadata": {},
     "output_type": "execute_result"
    }
   ],
   "source": [
    "# Choose a Gemini API model.\n",
    "model = genai.GenerativeModel(model_name=\"gemini-1.5-pro-latest\")\n",
    "prompt = f\"Using the uploaded image and the query '{user_query}', provide fitness-related advice or suggestions. The image shows a fitness-related activity or equipment. Assist the user with workout tips, form correction, or equipment usage guidance.\"\n",
    "# Prompt the model with text and the previously uploaded image.\n",
    "response = model.generate_content([sample_file, prompt])\n",
    "\n",
    "Markdown(\">\" + response.text)"
   ]
  },
  {
   "cell_type": "code",
   "execution_count": null,
   "metadata": {},
   "outputs": [],
   "source": []
  },
  {
   "cell_type": "code",
   "execution_count": null,
   "metadata": {},
   "outputs": [],
   "source": []
  },
  {
   "cell_type": "code",
   "execution_count": null,
   "metadata": {},
   "outputs": [],
   "source": []
  },
  {
   "cell_type": "code",
   "execution_count": null,
   "metadata": {},
   "outputs": [],
   "source": []
  }
 ],
 "metadata": {
  "kernelspec": {
   "display_name": "lm_python",
   "language": "python",
   "name": "python3"
  },
  "language_info": {
   "codemirror_mode": {
    "name": "ipython",
    "version": 3
   },
   "file_extension": ".py",
   "mimetype": "text/x-python",
   "name": "python",
   "nbconvert_exporter": "python",
   "pygments_lexer": "ipython3",
   "version": "3.10.14"
  }
 },
 "nbformat": 4,
 "nbformat_minor": 2
}
